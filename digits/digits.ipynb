{
 "cells": [
  {
   "cell_type": "markdown",
   "metadata": {},
   "source": [
    "# Digits Kaggle (MNIST)"
   ]
  },
  {
   "cell_type": "code",
   "execution_count": 1,
   "metadata": {
    "collapsed": true
   },
   "outputs": [],
   "source": [
    "import pandas as pd\n",
    "import numpy as np\n",
    "from sklearn import preprocessing\n",
    "\n",
    "#Matplotlib\n",
    "import matplotlib.pyplot as plt\n",
    "%matplotlib inline"
   ]
  },
  {
   "cell_type": "code",
   "execution_count": 2,
   "metadata": {
    "scrolled": false
   },
   "outputs": [],
   "source": [
    "train = pd.read_csv('csv/train.csv')\n",
    "test = pd.read_csv('csv/test.csv')\n",
    "X_train = train[train.columns.drop('label')]\n",
    "Y_train = train['label']\n",
    "X_train = X_train.values\n",
    "X_train = X_train.reshape(X_train.shape[0], 28, 28, 1)"
   ]
  },
  {
   "cell_type": "markdown",
   "metadata": {},
   "source": [
    "Plot data"
   ]
  },
  {
   "cell_type": "code",
   "execution_count": 3,
   "metadata": {},
   "outputs": [
    {
     "data": {
      "text/plain": [
       "<matplotlib.text.Text at 0x7fa2765b9c18>"
      ]
     },
     "execution_count": 3,
     "metadata": {},
     "output_type": "execute_result"
    },
    {
     "data": {
      "image/png": "[encoded data removed]",
      "text/plain": [
       "<matplotlib.figure.Figure at 0x7fa27849b3c8>"
      ]
     },
     "metadata": {},
     "output_type": "display_data"
    }
   ],
   "source": [
    "i = 3\n",
    "plt.subplot(330 + i+1)\n",
    "plt.imshow(X_train[i].reshape(28, 28), cmap=plt.get_cmap('gray'))\n",
    "plt.title(Y_train[i])"
   ]
  },
  {
   "cell_type": "markdown",
   "metadata": {},
   "source": [
    "## One hot encoding (Labels)"
   ]
  },
  {
   "cell_type": "code",
   "execution_count": 4,
   "metadata": {
    "scrolled": true
   },
   "outputs": [
    {
     "data": {
      "text/plain": [
       "array([[ 0.,  1.,  0., ...,  0.,  0.,  0.],\n",
       "       [ 1.,  0.,  0., ...,  0.,  0.,  0.],\n",
       "       [ 0.,  1.,  0., ...,  0.,  0.,  0.],\n",
       "       ..., \n",
       "       [ 0.,  0.,  0., ...,  1.,  0.,  0.],\n",
       "       [ 0.,  0.,  0., ...,  0.,  0.,  0.],\n",
       "       [ 0.,  0.,  0., ...,  0.,  0.,  1.]])"
      ]
     },
     "execution_count": 4,
     "metadata": {},
     "output_type": "execute_result"
    }
   ],
   "source": [
    "encoder = preprocessing.OneHotEncoder(sparse = False, n_values=10)\n",
    "encoder.fit(Y_train.values.reshape(-1, 1))\n",
    "Y_train = encoder.transform(Y_train.values.reshape(-1, 1))\n",
    "Y_train = pd.DataFrame(Y_train, columns=range(10))\n",
    "Y_train = Y_train.values\n",
    "Y_train"
   ]
  },
  {
   "cell_type": "markdown",
   "metadata": {},
   "source": [
    "## Deep Learning (Keras)"
   ]
  },
  {
   "cell_type": "code",
   "execution_count": 5,
   "metadata": {},
   "outputs": [
    {
     "name": "stderr",
     "output_type": "stream",
     "text": [
      "Using TensorFlow backend.\n"
     ]
    },
    {
     "name": "stdout",
     "output_type": "stream",
     "text": [
      "Epoch 1/10\n",
      "42000/42000 [==============================] - 6s - loss: 6.8321 - acc: 0.5707     \n",
      "Epoch 2/10\n",
      "42000/42000 [==============================] - 6s - loss: 5.0275 - acc: 0.6846     \n",
      "Epoch 3/10\n",
      "42000/42000 [==============================] - 6s - loss: 4.7094 - acc: 0.7046     \n",
      "Epoch 4/10\n",
      "42000/42000 [==============================] - 6s - loss: 4.6457 - acc: 0.7090     \n",
      "Epoch 5/10\n",
      "42000/42000 [==============================] - 6s - loss: 4.6234 - acc: 0.7106     \n",
      "Epoch 6/10\n",
      "42000/42000 [==============================] - 6s - loss: 4.5991 - acc: 0.7120     \n",
      "Epoch 7/10\n",
      "42000/42000 [==============================] - 6s - loss: 4.5169 - acc: 0.7178     \n",
      "Epoch 8/10\n",
      "42000/42000 [==============================] - 6s - loss: 4.5205 - acc: 0.7171     \n",
      "Epoch 9/10\n",
      "42000/42000 [==============================] - 6s - loss: 4.4637 - acc: 0.7210     \n",
      "Epoch 10/10\n",
      "42000/42000 [==============================] - 6s - loss: 4.4216 - acc: 0.7236     \n"
     ]
    },
    {
     "data": {
      "text/plain": [
       "<keras.callbacks.History at 0x7fa241da3080>"
      ]
     },
     "execution_count": 5,
     "metadata": {},
     "output_type": "execute_result"
    }
   ],
   "source": [
    "from keras.models import Model\n",
    "from keras.layers import Input, Dense, Conv2D\n",
    "from keras.layers.core import Flatten\n",
    "from keras.optimizers import RMSprop\n",
    "\n",
    "input = Input(shape=(28,28,1))\n",
    "conv = Conv2D(filters = 1, kernel_size=(2,2))(input)\n",
    "flat = Flatten()(conv)\n",
    "dens = Dense(10, activation='softmax')(flat)\n",
    "\n",
    "model = Model(inputs = input, outputs = dens)\n",
    "\n",
    "model.compile(optimizer=RMSprop(lr=0.001),\n",
    "              loss='categorical_crossentropy',\n",
    "              metrics=['accuracy'])\n",
    "\n",
    "model.fit(X_train, Y_train, epochs=10, batch_size=32)"
   ]
  },
  {
   "cell_type": "code",
   "execution_count": 6,
   "metadata": {},
   "outputs": [
    {
     "name": "stdout",
     "output_type": "stream",
     "text": [
      "10/10 [==============================] - 0s\n",
      "[3.2236189842224121, 0.80000001192092896]\n"
     ]
    }
   ],
   "source": [
    "score = model.evaluate(X_train[0:10], Y_train[0:10])\n",
    "print(score)"
   ]
  },
  {
   "cell_type": "code",
   "execution_count": 7,
   "metadata": {},
   "outputs": [
    {
     "data": {
      "text/plain": [
       "array([[ 0.,  1.,  0.,  0.,  0.,  0.,  0.,  0.,  0.,  0.],\n",
       "       [ 0.,  0.,  1.,  0.,  0.,  0.,  0.,  0.,  0.,  0.],\n",
       "       [ 1.,  0.,  0.,  0.,  0.,  0.,  0.,  0.,  0.,  0.]], dtype=float32)"
      ]
     },
     "execution_count": 7,
     "metadata": {},
     "output_type": "execute_result"
    }
   ],
   "source": [
    "prediction = model.predict(X_train[2:5])\n",
    "prediction"
   ]
  },
  {
   "cell_type": "code",
   "execution_count": null,
   "metadata": {
    "collapsed": true
   },
   "outputs": [],
   "source": []
  }
 ],
 "metadata": {
  "kernelspec": {
   "display_name": "Python 3",
   "language": "python",
   "name": "python3"
  },
  "language_info": {
   "codemirror_mode": {
    "name": "ipython",
    "version": 3
   },
   "file_extension": ".py",
   "mimetype": "text/x-python",
   "name": "python",
   "nbconvert_exporter": "python",
   "pygments_lexer": "ipython3",
   "version": "3.6.2"
  }
 },
 "nbformat": 4,
 "nbformat_minor": 2
}
